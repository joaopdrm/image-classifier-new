{
 "cells": [
  {
   "cell_type": "code",
   "execution_count": null,
   "metadata": {},
   "outputs": [],
   "source": [
    "import sys\n",
    "import os\n",
    "\n",
    "sys.path.append(os.path.abspath(os.path.join(os.getcwd(), '..')))\n",
    "\n",
    "from utils.architecture import image_model\n",
    "from utils.load_data import load_my_data\n",
    "from utils.adapter_tensorflow import Adaptertensorflow"
   ]
  },
  {
   "cell_type": "code",
   "execution_count": null,
   "metadata": {},
   "outputs": [],
   "source": [
    "data_dir = \"/projetos_pessoais/treinamento_modelos_vc/dataset\"\n",
    "\n",
    "# Carregar os dados\n",
    "train_ds, val_ds = load_my_data(data_dir)\n",
    "\n",
    "# Criar o modelo\n",
    "model = image_model(input_shape=(128, 128, 3), num_classes=2)\n",
    "\n",
    "# Treinar o modelo\n",
    "model.train(train_ds, val_ds=val_ds, epochs=10, batch_size=32)\n",
    "\n",
    "# Fazer previsões\n",
    "sample_data, sample_labels = next(val_ds)\n",
    "predictions = model.predict_data(sample_data)\n",
    "print(predictions)"
   ]
  }
 ],
 "metadata": {
  "kernelspec": {
   "display_name": "env",
   "language": "python",
   "name": "python3"
  },
  "language_info": {
   "codemirror_mode": {
    "name": "ipython",
    "version": 3
   },
   "file_extension": ".py",
   "mimetype": "text/x-python",
   "name": "python",
   "nbconvert_exporter": "python",
   "pygments_lexer": "ipython3",
   "version": "3.10.12"
  }
 },
 "nbformat": 4,
 "nbformat_minor": 2
}
